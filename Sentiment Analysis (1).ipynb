{
 "cells": [
  {
   "cell_type": "code",
   "execution_count": 21,
   "id": "4527b20f-205e-4581-816a-1a8a1c0aa9c3",
   "metadata": {},
   "outputs": [
    {
     "data": {
      "text/html": [
       "<div>\n",
       "<style scoped>\n",
       "    .dataframe tbody tr th:only-of-type {\n",
       "        vertical-align: middle;\n",
       "    }\n",
       "\n",
       "    .dataframe tbody tr th {\n",
       "        vertical-align: top;\n",
       "    }\n",
       "\n",
       "    .dataframe thead th {\n",
       "        text-align: right;\n",
       "    }\n",
       "</style>\n",
       "<table border=\"1\" class=\"dataframe\">\n",
       "  <thead>\n",
       "    <tr style=\"text-align: right;\">\n",
       "      <th></th>\n",
       "      <th>clean_text</th>\n",
       "      <th>predicted_category</th>\n",
       "    </tr>\n",
       "  </thead>\n",
       "  <tbody>\n",
       "    <tr>\n",
       "      <th>0</th>\n",
       "      <td>when modi promised “minimum government maximum...</td>\n",
       "      <td>-1</td>\n",
       "    </tr>\n",
       "    <tr>\n",
       "      <th>1</th>\n",
       "      <td>talk all the nonsense and continue all the dra...</td>\n",
       "      <td>0</td>\n",
       "    </tr>\n",
       "    <tr>\n",
       "      <th>2</th>\n",
       "      <td>what did just say vote for modi  welcome bjp t...</td>\n",
       "      <td>1</td>\n",
       "    </tr>\n",
       "    <tr>\n",
       "      <th>3</th>\n",
       "      <td>asking his supporters prefix chowkidar their n...</td>\n",
       "      <td>1</td>\n",
       "    </tr>\n",
       "    <tr>\n",
       "      <th>4</th>\n",
       "      <td>answer who among these the most powerful world...</td>\n",
       "      <td>1</td>\n",
       "    </tr>\n",
       "  </tbody>\n",
       "</table>\n",
       "</div>"
      ],
      "text/plain": [
       "                                          clean_text  predicted_category\n",
       "0  when modi promised “minimum government maximum...                  -1\n",
       "1  talk all the nonsense and continue all the dra...                   0\n",
       "2  what did just say vote for modi  welcome bjp t...                   1\n",
       "3  asking his supporters prefix chowkidar their n...                   1\n",
       "4  answer who among these the most powerful world...                   1"
      ]
     },
     "execution_count": 21,
     "metadata": {},
     "output_type": "execute_result"
    }
   ],
   "source": [
    "import pandas as pd\n",
    "from textblob import TextBlob\n",
    "\n",
    "# Load the dataset\n",
    "file_path = 'Twitter_Data.csv'\n",
    "twitter_data = pd.read_csv(file_path)\n",
    "\n",
    "# Function to classify polarity\n",
    "def classify_polarity(polarity):\n",
    "    if polarity > 0:\n",
    "        return 1\n",
    "    elif polarity == 0:\n",
    "        return 0\n",
    "    else:\n",
    "        return -1\n",
    "\n",
    "# Function to calculate sentiment polarity and classify\n",
    "def analyze_sentiment(text):\n",
    "    polarity = TextBlob(text).sentiment.polarity\n",
    "    return classify_polarity(polarity)\n",
    "\n",
    "# Apply the sentiment analysis to the dataset\n",
    "twitter_data['predicted_category'] = twitter_data['clean_text'].apply(lambda x: analyze_sentiment(str(x)))\n",
    "\n",
    "# Drop the 'category' column\n",
    "twitter_data.drop(columns=['category'], inplace=True)\n",
    "\n",
    "# Display the first few rows to verify\n",
    "twitter_data.head()\n"
   ]
  },
  {
   "cell_type": "code",
   "execution_count": null,
   "id": "3dce751e-2354-4404-a623-14dad4e8c905",
   "metadata": {},
   "outputs": [],
   "source": [
    "from azure.storage.blob import BlobServiceClient, BlobClient, ContainerClient\n",
    "\n",
    "# Azure Blob Storage connection string\n",
    "connection_string = \"DefaultEndpointsProtocol=https;AccountName=sentimentalblobtext;AccountKey=lce+INV1zzqRaozaZZ9wnOjosFo7AjbdhMKQOcSPE4i1oES/U0b96CLTCMMe7st1m2JYmvPKjxMH+AStpkTGKQ==;EndpointSuffix=core.windows.net\"\n",
    "container_name = \"sentimentinal-text-blob\"\n",
    "file_path = \"Twitter_Data.csv\"\n",
    "blob_name = \"Twitter_Data.csv\"\n",
    "\n",
    "# Create a BlobServiceClient\n",
    "blob_service_client = BlobServiceClient.from_connection_string(connection_string)\n",
    "\n",
    "# Create a container client\n",
    "container_client = blob_service_client.get_container_client(container_name)\n",
    "\n",
    "# Upload the CSV file to Azure Blob Storage\n",
    "with open(file_path, \"rb\") as data:\n",
    "    container_client.upload_blob(name=blob_name, data=data)\n",
    "\n",
    "print(f\"File {file_path} uploaded to Azure Blob Storage as {blob_name}.\")\n"
   ]
  },
  {
   "cell_type": "code",
   "execution_count": null,
   "id": "8fbc40fa-af7f-4161-9bc6-dbe2890e91af",
   "metadata": {},
   "outputs": [],
   "source": []
  }
 ],
 "metadata": {
  "kernelspec": {
   "display_name": "Python 3 (ipykernel)",
   "language": "python",
   "name": "python3"
  },
  "language_info": {
   "codemirror_mode": {
    "name": "ipython",
    "version": 3
   },
   "file_extension": ".py",
   "mimetype": "text/x-python",
   "name": "python",
   "nbconvert_exporter": "python",
   "pygments_lexer": "ipython3",
   "version": "3.11.8"
  }
 },
 "nbformat": 4,
 "nbformat_minor": 5
}
